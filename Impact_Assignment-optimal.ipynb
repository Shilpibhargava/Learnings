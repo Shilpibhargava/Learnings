{
 "cells": [
  {
   "cell_type": "markdown",
   "id": "82f2e85a",
   "metadata": {},
   "source": [
    "                                         Case Study: Problem-1 [ 3-4 Hours]\n",
    "A shop-keeper would like to decide weekly pricing of their products. He/She generally plans pricing for each quarter and would like to achieve following:\n",
    "1. Clearout at least 60% of total inventory.\n",
    "2. achieve total margin across all products (i.e. selling price - cost price).\n",
    "Following are a few things to consider while deciding pricing of products.\n",
    "3. There shouldn’t be much difference in the pricing from one week to another.\n",
    "4. A particular price selected applies for all the products in the group.\n",
    "                                                    Expectations\n",
    "1. Develop a mathematical model that can help shop-keeper to identify their pricing for a quarter (13 weeks in the provided example)\n",
    "2. Model has to suggest a pricing (price-point) that will be applied across all the products to achieve highest possible margin considering inventory clearance of 60% (total inventory in the provided example is 264443.0 units, 60% of this has to be sold)\n",
    "3. Max Price change from one week to next is 20 units\n",
    "4. Shop-keeper has to cater posed weekly demand to customers if inventory is available\n",
    "5. A single price-point for a week applies to all the products as they belong to same group\n",
    "6. Implementation of model in python and obtain some initial results\n",
    "7. Algorithmic details to solve the model and provide insights on complexity of model in scaling to larger number of products/weeks."
   ]
  },
  {
   "cell_type": "markdown",
   "id": "1687676a",
   "metadata": {},
   "source": [
    "# Data Cleaning and Summary"
   ]
  },
  {
   "cell_type": "code",
   "execution_count": 1,
   "id": "77eb2fe9",
   "metadata": {},
   "outputs": [],
   "source": [
    "import pandas as pd\n",
    "import numpy as np\n",
    "from collections import defaultdict"
   ]
  },
  {
   "cell_type": "code",
   "execution_count": 2,
   "id": "5765c687",
   "metadata": {},
   "outputs": [],
   "source": [
    "data=pd.read_csv('/Users/Z003CNF/Desktop/AssignmentData.csv')"
   ]
  },
  {
   "cell_type": "code",
   "execution_count": 27,
   "id": "3ba075a0",
   "metadata": {},
   "outputs": [
    {
     "data": {
      "text/plain": [
       "(1265745, 8)"
      ]
     },
     "execution_count": 27,
     "metadata": {},
     "output_type": "execute_result"
    }
   ],
   "source": [
    "## check size of data and nulls if any \n",
    "data.shape"
   ]
  },
  {
   "cell_type": "code",
   "execution_count": 10,
   "id": "472580c2",
   "metadata": {},
   "outputs": [
    {
     "data": {
      "text/plain": [
       "6491"
      ]
     },
     "execution_count": 10,
     "metadata": {},
     "output_type": "execute_result"
    }
   ],
   "source": [
    "data['product_id'].nunique()"
   ]
  },
  {
   "cell_type": "code",
   "execution_count": 28,
   "id": "4fcb263b",
   "metadata": {},
   "outputs": [
    {
     "data": {
      "text/plain": [
       "195.0"
      ]
     },
     "execution_count": 28,
     "metadata": {},
     "output_type": "execute_result"
    }
   ],
   "source": [
    "1265745/6491 # one product has 195 rows "
   ]
  },
  {
   "cell_type": "code",
   "execution_count": 23,
   "id": "adacb142",
   "metadata": {},
   "outputs": [
    {
     "data": {
      "text/plain": [
       "15"
      ]
     },
     "execution_count": 23,
     "metadata": {},
     "output_type": "execute_result"
    }
   ],
   "source": [
    "d1['price'].nunique()"
   ]
  },
  {
   "cell_type": "code",
   "execution_count": 29,
   "id": "bb0ef1bb",
   "metadata": {},
   "outputs": [
    {
     "data": {
      "text/plain": [
       "195"
      ]
     },
     "execution_count": 29,
     "metadata": {},
     "output_type": "execute_result"
    }
   ],
   "source": [
    "13*15    # for each prod in each week 15 differnet price points\n",
    "          #are there of which we need to select one price point to maximize total margin \n",
    "          #and demand is atleast 60% of inv"
   ]
  },
  {
   "cell_type": "code",
   "execution_count": 34,
   "id": "9dc03ced",
   "metadata": {},
   "outputs": [
    {
     "data": {
      "text/plain": [
       "1"
      ]
     },
     "execution_count": 34,
     "metadata": {},
     "output_type": "execute_result"
    }
   ],
   "source": [
    "a=data['product_id'].value_counts() # to confirm if total 195 rows for each prod.\n",
    "a.nunique()"
   ]
  },
  {
   "cell_type": "code",
   "execution_count": 36,
   "id": "b6e8de41",
   "metadata": {},
   "outputs": [],
   "source": [
    "# Handling missing values if any"
   ]
  },
  {
   "cell_type": "markdown",
   "id": "36ba2a74",
   "metadata": {},
   "source": [
    "# Exploratory Data Analysis"
   ]
  },
  {
   "cell_type": "code",
   "execution_count": 6,
   "id": "3d6cd811",
   "metadata": {},
   "outputs": [
    {
     "data": {
      "text/plain": [
       "264443.0"
      ]
     },
     "execution_count": 6,
     "metadata": {},
     "output_type": "execute_result"
    }
   ],
   "source": [
    "# Total Inventory for all prods at the start of quater\n",
    "\n",
    "prod_inv=data.groupby(['product_id']).agg(inventory=pd.NamedAgg(column=\"total_inventory\", aggfunc=\"mean\")).reset_index()\n",
    "prod_inv['inventory'].sum()\n"
   ]
  },
  {
   "cell_type": "code",
   "execution_count": 44,
   "id": "a0a59ec0",
   "metadata": {},
   "outputs": [
    {
     "data": {
      "text/plain": [
       "158665.8"
      ]
     },
     "execution_count": 44,
     "metadata": {},
     "output_type": "execute_result"
    }
   ],
   "source": [
    "0.6*264443 # This much inventory needs to be cleared"
   ]
  },
  {
   "cell_type": "code",
   "execution_count": 65,
   "id": "afe0f8a2",
   "metadata": {},
   "outputs": [
    {
     "data": {
      "text/plain": [
       "1265745"
      ]
     },
     "execution_count": 65,
     "metadata": {},
     "output_type": "execute_result"
    }
   ],
   "source": [
    "# check if sp is always > cp for all prod's and possible price points\n",
    "data['is_sp_gt_cp']=np.where(data['selling_price'] >= data['cost_price'],1,0)\n",
    "data['is_sp_gt_cp'].sum()"
   ]
  },
  {
   "cell_type": "code",
   "execution_count": null,
   "id": "197ebf79",
   "metadata": {},
   "outputs": [],
   "source": [
    "## Selling price was always > cost price hence we will always have positive margin."
   ]
  },
  {
   "cell_type": "code",
   "execution_count": 56,
   "id": "b414a38c",
   "metadata": {},
   "outputs": [
    {
     "data": {
      "text/plain": [
       "Tot_Demand    620285.0\n",
       "dtype: float64"
      ]
     },
     "execution_count": 56,
     "metadata": {},
     "output_type": "execute_result"
    }
   ],
   "source": [
    "# check if total quater demand is less than inv. available at start of quater\n",
    "# taken max of a demand over all options in a week\n",
    "prod_week_demand=data.groupby(['product_id','week']).agg(Demand=pd.NamedAgg(column=\"demand\", aggfunc=\"max\"))\n",
    "prod_demand=prod_week_demand.groupby(['product_id']).agg(Tot_Demand=pd.NamedAgg(column=\"Demand\", aggfunc=\"sum\"))\n",
    "prod_demand.sum()"
   ]
  },
  {
   "cell_type": "code",
   "execution_count": 61,
   "id": "789d22e5",
   "metadata": {},
   "outputs": [
    {
     "data": {
      "text/plain": [
       "1697"
      ]
     },
     "execution_count": 61,
     "metadata": {},
     "output_type": "execute_result"
    }
   ],
   "source": [
    "# Compare inventory and demand\n",
    "# maximum demand scenerio is 0.6 M but overall inventory is 0.26 M , so if all the products have high demand scenerio\n",
    "# we may not be able to fulfill all of the demand.\n",
    "\n",
    "prods=pd.merge(prod_inv,prod_demand, on=[\"product_id\"])\n",
    "prods['if']=np.where(prods['inventory'] >= prods['Tot_Demand'],1,0)\n",
    "prods['if'].sum()"
   ]
  },
  {
   "cell_type": "code",
   "execution_count": 62,
   "id": "b93e85e9",
   "metadata": {},
   "outputs": [],
   "source": [
    "#of 6k products, we have enough invnetory for 1.6 k products, if we consider maximum demand scenerios"
   ]
  },
  {
   "cell_type": "markdown",
   "id": "058222d1",
   "metadata": {},
   "source": [
    "### Objective Function\n",
    "\n",
    "#####  $ Maximize: demand*(sp*x[i,j,k]-cp*x[i,j,k]) $\n",
    "\n",
    "### Requirement 1: Inventory Clearence\n",
    "##### Demand will vary as per the price we set and it will be met/un-met based on available inventory\n",
    "##### $ total demand >= 158665.8 $\n",
    "##### and total demand at particular price point if selected (for whole quater) <= inv. available start of quater\n",
    "\n",
    "### Requirement 2: WOW price variation\n",
    "##### $ For all i : abs(X[i,j,k]-X[i,j+1,k]) < 20    # it will be a non-linear constraint so will linearize it by added two constraints <20 & >20 $"
   ]
  },
  {
   "cell_type": "markdown",
   "id": "1fe0bcbc",
   "metadata": {},
   "source": [
    "# Optimization Model \n",
    "\n",
    "###### Find the optimum prices for products based on above two requirements"
   ]
  },
  {
   "cell_type": "code",
   "execution_count": 3,
   "id": "bba51187",
   "metadata": {},
   "outputs": [],
   "source": [
    "data['margin']=data['selling_price']-data['cost_price']"
   ]
  },
  {
   "cell_type": "code",
   "execution_count": 4,
   "id": "77525e2c",
   "metadata": {},
   "outputs": [],
   "source": [
    "# test data for 2 products\n",
    "products=data['product_id'].unique()\n",
    "weeks=[202136, 202142, 202137, 202139, 202146, 202138, 202140, 202141,202147, 202143, 202144, 202145, 202148]\n",
    "prices=[ 5.0, 10.0, 55.0, 60.0, 65.0, 70.0, 75.0, 15.0, 20.0, 25.0, 30.0, 35.0, 40.0, 45.0, 50.0]\n",
    "\n",
    "combos = [(p, w, a) for p in products for w in weeks for a in prices]"
   ]
  },
  {
   "cell_type": "code",
   "execution_count": 7,
   "id": "e593b291",
   "metadata": {},
   "outputs": [],
   "source": [
    "#data1=data.loc[data['product_id'].isin(products)]\n",
    "dict_demand=data.set_index(['product_id','week','price']).demand.to_dict()\n",
    "dict_margin=data.set_index(['product_id','week','price']).margin.to_dict()\n",
    "dict_inv_quater=prod_inv.set_index(['product_id']).inventory.to_dict()"
   ]
  },
  {
   "cell_type": "code",
   "execution_count": 8,
   "id": "12865064",
   "metadata": {},
   "outputs": [],
   "source": [
    "from pulp import *\n",
    "prob = LpProblem(\"Pricing_Problem\",LpMaximize)\n",
    "dvar = LpVariable.dicts(\"price_points\",combos, cat=\"Binary\")\n"
   ]
  },
  {
   "cell_type": "code",
   "execution_count": 9,
   "id": "8e6ce015",
   "metadata": {},
   "outputs": [],
   "source": [
    "## objective function:\n",
    "\n",
    "prob += (\n",
    "    lpSum([dvar[i] * dict_margin[i] * dict_demand[i] for i in combos])\n",
    ")\n"
   ]
  },
  {
   "cell_type": "code",
   "execution_count": 10,
   "id": "19b22a81",
   "metadata": {},
   "outputs": [],
   "source": [
    "## Constraint 1 --- Only. one price point is to be chosen for a product in a week\n",
    "\n",
    "for p in products:\n",
    "    for w in weeks:\n",
    "        prob += (\n",
    "            lpSum([dvar[(p,w,a)] for a in prices]) == 1\n",
    "        )\n"
   ]
  },
  {
   "cell_type": "code",
   "execution_count": 333,
   "id": "2b54d629",
   "metadata": {},
   "outputs": [],
   "source": [
    "## Constraint 2 ---- Demand to be met if enough inventory is available at start of quater.\n",
    "\n",
    "for p in products:\n",
    "    prob += (\n",
    "        lpSum([dvar[(p,w,a)] for w in weeks for a in prices]) <= dict_inv_quater[p]\n",
    "    )\n",
    "    "
   ]
  },
  {
   "cell_type": "code",
   "execution_count": 316,
   "id": "91ee3a0a",
   "metadata": {},
   "outputs": [],
   "source": [
    "## Constraint 3 ---- Demand should be as much as to clear 60% inventory\n",
    "\n",
    "prob += (\n",
    "    lpSum([dvar[i] * dict_demand[i] for i in combos]) >= 21\n",
    ")\n"
   ]
  },
  {
   "cell_type": "code",
   "execution_count": null,
   "id": "3ff3a60a",
   "metadata": {},
   "outputs": [],
   "source": [
    "## Constraint 4 ---- The price change from a week to next < 20 \n",
    "\n",
    "prob += (\n",
    "    lpSum(dvar[(p, w, j)] for w in weeks for j in prices)- lpSum(dvar[(p, w+1, j)] for w in weeks for j in prices) < 20\n",
    "    \n",
    "    \n",
    "    "
   ]
  },
  {
   "cell_type": "code",
   "execution_count": 334,
   "id": "6afe60f8",
   "metadata": {},
   "outputs": [
    {
     "name": "stdout",
     "output_type": "stream",
     "text": [
      "Welcome to the CBC MILP Solver \n",
      "Version: 2.10.3 \n",
      "Build Date: Dec 15 2019 \n",
      "\n",
      "command line - /Users/Z003CNF/opt/anaconda3/lib/python3.9/site-packages/pulp/apis/../solverdir/cbc/osx/64/cbc /var/folders/my/1126m1255k36stt7f2r98h_w0000gq/T/4a6061c88a6348bf977666cda00ca51b-pulp.mps max timeMode elapsed branch printingOptions all solution /var/folders/my/1126m1255k36stt7f2r98h_w0000gq/T/4a6061c88a6348bf977666cda00ca51b-pulp.sol (default strategy 1)\n",
      "At line 2 NAME          MODEL\n",
      "At line 3 ROWS\n",
      "At line 90879 COLUMNS\n",
      "At line 5999853 RHS\n",
      "At line 6090728 BOUNDS\n",
      "At line 7356474 ENDATA\n",
      "Problem MODEL has 90874 rows, 1265745 columns and 2531490 elements\n",
      "Coin0008I MODEL read with 0 errors\n",
      "Option for timeMode changed from cpu to elapsed\n",
      "Problem is infeasible - 3.11 seconds\n",
      "Option for printingOptions changed from normal to all\n",
      "Total time (CPU seconds):       6.57   (Wallclock seconds):       7.55\n",
      "\n",
      "Status: Infeasible\n"
     ]
    }
   ],
   "source": [
    "prob.writeLP(\"pricing.lp\")\n",
    "\n",
    "# The problem is solved using PuLP's choice of Solver\n",
    "prob.solve()\n",
    "\n",
    "# The status of the solution is printed to the screen\n",
    "print(\"Status:\", LpStatus[prob.status])\n",
    "\n",
    "#for v in prob.variables():\n",
    "    #print(v.name, \"=\", v.varValue)"
   ]
  },
  {
   "cell_type": "code",
   "execution_count": null,
   "id": "6573abed",
   "metadata": {},
   "outputs": [],
   "source": []
  },
  {
   "cell_type": "code",
   "execution_count": null,
   "id": "b806030f",
   "metadata": {},
   "outputs": [],
   "source": []
  },
  {
   "cell_type": "code",
   "execution_count": null,
   "id": "7a647c6e",
   "metadata": {},
   "outputs": [],
   "source": []
  },
  {
   "cell_type": "code",
   "execution_count": null,
   "id": "4d8ecda4",
   "metadata": {},
   "outputs": [],
   "source": []
  }
 ],
 "metadata": {
  "kernelspec": {
   "display_name": "Python 3 (ipykernel)",
   "language": "python",
   "name": "python3"
  },
  "language_info": {
   "codemirror_mode": {
    "name": "ipython",
    "version": 3
   },
   "file_extension": ".py",
   "mimetype": "text/x-python",
   "name": "python",
   "nbconvert_exporter": "python",
   "pygments_lexer": "ipython3",
   "version": "3.9.12"
  }
 },
 "nbformat": 4,
 "nbformat_minor": 5
}
